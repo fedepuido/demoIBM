{
    "cells": [
        {
            "cell_type": "markdown",
            "metadata": {
                "collapsed": true
            },
            "source": "# Microsoft Python Absolute Beginner\n1 Module 1\n2 Practice\n"
        },
        {
            "cell_type": "code",
            "execution_count": 1,
            "metadata": {},
            "outputs": [
                {
                    "name": "stdout",
                    "output_type": "stream",
                    "text": "Hello World with double quotes\nHello World with single quotes\n"
                }
            ],
            "source": "print (\"Hello World with double quotes\")\nprint ('Hello World with single quotes')"
        },
        {
            "cell_type": "code",
            "execution_count": 2,
            "metadata": {},
            "outputs": [
                {
                    "name": "stdout",
                    "output_type": "stream",
                    "text": "299\n299\n"
                }
            ],
            "source": "print (299)\nprint (\"299\")\n"
        },
        {
            "cell_type": "code",
            "execution_count": 3,
            "metadata": {},
            "outputs": [
                {
                    "name": "stdout",
                    "output_type": "stream",
                    "text": "I am a string\nRun this cell using Ctrl+Enter.And Now  Hola amigou\n"
                }
            ],
            "source": "current_msg = \"Run this cell using Ctrl+Enter.And Now \"\nprint (\"I am a string\")\nprint (current_msg, \"Hola amigou\")\n"
        },
        {
            "cell_type": "code",
            "execution_count": 4,
            "metadata": {},
            "outputs": [
                {
                    "name": "stdout",
                    "output_type": "stream",
                    "text": "Run this cell using Ctrl+Enter.And Now \n"
                }
            ],
            "source": "print (current_msg)"
        },
        {
            "cell_type": "code",
            "execution_count": 7,
            "metadata": {},
            "outputs": [
                {
                    "name": "stdout",
                    "output_type": "stream",
                    "text": "Felipe Puido\n13\n1255\n"
                }
            ],
            "source": "name = \"Felipe Puido\"\nprint (name)\ntest_value = 13\nprint (test_value)\nbucket = 1255\nprint(bucket)\n"
        },
        {
            "cell_type": "code",
            "execution_count": 10,
            "metadata": {},
            "outputs": [
                {
                    "name": "stdout",
                    "output_type": "stream",
                    "text": "<class 'int'> <class 'str'>\n"
                }
            ],
            "source": "print(type(bucket),type(name))\n"
        },
        {
            "cell_type": "code",
            "execution_count": 15,
            "metadata": {},
            "outputs": [
                {
                    "data": {
                        "text/plain": "str"
                    },
                    "execution_count": 15,
                    "metadata": {},
                    "output_type": "execute_result"
                }
            ],
            "source": "type('122')"
        },
        {
            "cell_type": "code",
            "execution_count": 23,
            "metadata": {},
            "outputs": [
                {
                    "name": "stdout",
                    "output_type": "stream",
                    "text": "7\nAna Feli\n"
                }
            ],
            "source": "print(2+5)\nprint(\"Ana\",\"Feli\")"
        },
        {
            "cell_type": "code",
            "execution_count": 27,
            "metadata": {},
            "outputs": [
                {
                    "name": "stdout",
                    "output_type": "stream",
                    "text": "    *\n   * *\n  *****\n *     *\n\n"
                }
            ],
            "source": "print(\"    *\")\nprint(\"   * *\")\nprint(\"  *****\")\nprint(\" *     *\")\nprint(\"\")\n"
        },
        {
            "cell_type": "code",
            "execution_count": 2,
            "metadata": {},
            "outputs": [
                {
                    "name": "stdout",
                    "output_type": "stream",
                    "text": "enter a small int: \n2\nsmall int: \n2\n"
                }
            ],
            "source": "print(\"enter a small int: \")\nsmall_int = input()\nprint(\"small int: \")\nprint(small_int)\n"
        },
        {
            "cell_type": "code",
            "execution_count": 1,
            "metadata": {},
            "outputs": [
                {
                    "name": "stdout",
                    "output_type": "stream",
                    "text": "Enter Name:\nFelipe\n"
                },
                {
                    "data": {
                        "text/plain": "str"
                    },
                    "execution_count": 1,
                    "metadata": {},
                    "output_type": "execute_result"
                }
            ],
            "source": "print(\"Enter Name:\")\nstudent_name = input()\ntype(student_name)"
        },
        {
            "cell_type": "code",
            "execution_count": 7,
            "metadata": {},
            "outputs": [
                {
                    "name": "stdout",
                    "output_type": "stream",
                    "text": "Type name or number\n12\n"
                },
                {
                    "data": {
                        "text/plain": "str"
                    },
                    "execution_count": 7,
                    "metadata": {},
                    "output_type": "execute_result"
                }
            ],
            "source": "print(\"Type name or number\")\ntest_input = input()\ntype(test_input)\n"
        },
        {
            "cell_type": "code",
            "execution_count": 10,
            "metadata": {},
            "outputs": [
                {
                    "name": "stdout",
                    "output_type": "stream",
                    "text": "First Name: Fede\nHi Fede!\n"
                }
            ],
            "source": "student_name = input(\"First Name: \")\nprint(\"Hi\",student_name+\"!\")\n"
        },
        {
            "cell_type": "code",
            "execution_count": 12,
            "metadata": {},
            "outputs": [
                {
                    "name": "stdout",
                    "output_type": "stream",
                    "text": "What's your City Name: Buenos Aires\nYou live at Buenos Aires City\n"
                }
            ],
            "source": "city = input(\"What's your City Name: \")\nprint(\"You live at\",city,\"City\")\n"
        },
        {
            "cell_type": "code",
            "execution_count": 2,
            "metadata": {},
            "outputs": [
                {
                    "name": "stdout",
                    "output_type": "stream",
                    "text": "Name: Fede\nAge: 36\nWant to get emails: no\nYour Name is: Fede \nYou are 36 years old \nMailing? no\n"
                }
            ],
            "source": "name = input(\"Name: \")\nage = input(\"Age: \")\nget_mail = input (\"Want to get emails: \")\nprint (\"Your Name is:\",name,\"\\nYou are\",age,\"years old\",\"\\nMailing?\",get_mail)"
        },
        {
            "cell_type": "code",
            "execution_count": null,
            "metadata": {},
            "outputs": [],
            "source": ""
        }
    ],
    "metadata": {
        "kernelspec": {
            "display_name": "Python 3.6",
            "language": "python",
            "name": "python3"
        },
        "language_info": {
            "codemirror_mode": {
                "name": "ipython",
                "version": 3
            },
            "file_extension": ".py",
            "mimetype": "text/x-python",
            "name": "python",
            "nbconvert_exporter": "python",
            "pygments_lexer": "ipython3",
            "version": "3.6.9"
        }
    },
    "nbformat": 4,
    "nbformat_minor": 1
}